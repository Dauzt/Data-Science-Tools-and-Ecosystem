{
 "cells": [
  {
   "cell_type": "markdown",
   "id": "67be0cb3-f897-4f6d-ab58-d702857605a5",
   "metadata": {},
   "source": [
    "## Author\n",
    "John Doe"
   ]
  },
  {
   "cell_type": "markdown",
   "id": "1e9d8d44-04fa-4fad-a69f-ac48a94932a3",
   "metadata": {},
   "source": [
    "# Data Science Tools and Ecosystem"
   ]
  },
  {
   "cell_type": "markdown",
   "id": "41044c6b-a1ce-4ac9-9991-a8d728d9bc03",
   "metadata": {},
   "source": [
    "In this notebook, Data Science Tools and Ecosystem are summarized."
   ]
  },
  {
   "cell_type": "markdown",
   "id": "9964b80a-c880-4152-bfbb-1b16972883f5",
   "metadata": {
    "tags": []
   },
   "source": [
    "**Objectives:**\n",
    "* List popular languages for Data Science\n",
    "* List popular libraries used by Data Scientists\n",
    "* List popular Data Science Tools in a table\n",
    "* List a few examples of evaluating arithmetic expressions in Python"
   ]
  },
  {
   "cell_type": "markdown",
   "id": "8f886fbd-285c-443f-9238-0059aa304499",
   "metadata": {
    "tags": []
   },
   "source": [
    "Some of the popular languages that Data Scientists use are:\n",
    "\n",
    "1. Python\n",
    "2. R\n",
    "3. Julia"
   ]
  },
  {
   "cell_type": "markdown",
   "id": "1cc6d811-c20e-4544-9554-8a25f8a0e44d",
   "metadata": {
    "tags": []
   },
   "source": [
    "Some of the commonly used Libraries used by Data Scientists include:\n",
    "    \n",
    "1. Matplotlib\n",
    "2. NumPy\n",
    "3. Tensorflow\n",
    "4. Pytorch\n",
    "5. SciKit-Learn    \n",
    "6. Pandas\n",
    "7. SciPy"
   ]
  },
  {
   "cell_type": "markdown",
   "id": "5553153b-6e82-4f49-9180-64238bb0a8a0",
   "metadata": {},
   "source": [
    "| Data Science Tools |\n",
    "| ----- |\n",
    "| JupyterLab |\n",
    "| VSCode |\n",
    "| Spyder |\n",
    "| RStudio |\n",
    "    "
   ]
  },
  {
   "cell_type": "markdown",
   "id": "65bd412c-4372-449c-8cae-0592aaedee1c",
   "metadata": {},
   "source": [
    "### Below are a few examples of evaluating arithmetic expressions in Python"
   ]
  },
  {
   "cell_type": "code",
   "execution_count": 13,
   "id": "2b1ce979-7351-4a55-a9e7-424d64f65fd7",
   "metadata": {
    "tags": []
   },
   "outputs": [
    {
     "data": {
      "text/plain": [
       "17"
      ]
     },
     "execution_count": 13,
     "metadata": {},
     "output_type": "execute_result"
    }
   ],
   "source": [
    "# This is a simple arithmetic expression to multiply then add integers\n",
    "\n",
    "(3*4)+5"
   ]
  },
  {
   "cell_type": "code",
   "execution_count": 14,
   "id": "3043474b-c1d8-47a5-b581-bdb29085d85d",
   "metadata": {
    "tags": []
   },
   "outputs": [
    {
     "data": {
      "text/plain": [
       "3.3333333333333335"
      ]
     },
     "execution_count": 14,
     "metadata": {},
     "output_type": "execute_result"
    }
   ],
   "source": [
    "# This will convert 200 minutes to hours by dividing by 60\n",
    "\n",
    "200 / 60"
   ]
  }
 ],
 "metadata": {
  "kernelspec": {
   "display_name": "Python 3 (ipykernel)",
   "language": "python",
   "name": "python3"
  },
  "language_info": {
   "codemirror_mode": {
    "name": "ipython",
    "version": 3
   },
   "file_extension": ".py",
   "mimetype": "text/x-python",
   "name": "python",
   "nbconvert_exporter": "python",
   "pygments_lexer": "ipython3",
   "version": "3.11.5"
  }
 },
 "nbformat": 4,
 "nbformat_minor": 5
}
